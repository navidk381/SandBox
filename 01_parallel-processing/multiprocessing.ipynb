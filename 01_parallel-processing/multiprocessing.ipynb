{
 "cells": [
  {
   "cell_type": "markdown",
   "metadata": {},
   "source": [
    "# Parallel-processing using multi-processing\n",
    "### CPU bound\n",
    "ref = [YouTube](https://www.youtube.com/watch?v=fKl2JW_qrso)"
   ]
  },
  {
   "cell_type": "markdown",
   "metadata": {},
   "source": [
    "We use **multiprocessing** when **computation (CPU)** is a bottleneck and NOT any of I/O, user interaction, network bandwidth."
   ]
  },
  {
   "cell_type": "markdown",
   "metadata": {},
   "source": [
    "## multi-processing\n"
   ]
  },
  {
   "cell_type": "code",
   "execution_count": 1,
   "metadata": {},
   "outputs": [],
   "source": [
    "import time\n",
    "import multiprocessing\n",
    "import concurrent.futures"
   ]
  },
  {
   "cell_type": "markdown",
   "metadata": {},
   "source": [
    "Let's define two similar functions that get as input the time in seconds to sleep. One function, with `return` and one without:"
   ]
  },
  {
   "cell_type": "code",
   "execution_count": 2,
   "metadata": {},
   "outputs": [],
   "source": [
    "def do_it(seconds=1):\n",
    "    print(f'sleeping for {seconds} second(s)...')\n",
    "    time.sleep(seconds)\n",
    "    print(f'Done sleeping for {seconds} second(s)')\n",
    "\n",
    "def do_it_func(seconds=1):\n",
    "    print(f'sleeping for {seconds} second(s)...')\n",
    "    time.sleep(seconds)\n",
    "    return f'Done sleeping for {seconds} second(s)'"
   ]
  },
  {
   "cell_type": "markdown",
   "metadata": {},
   "source": [
    "### 1. one-process execution (synchronous)"
   ]
  },
  {
   "cell_type": "markdown",
   "metadata": {},
   "source": [
    "![one-thread](img/one-thread.png)"
   ]
  },
  {
   "cell_type": "code",
   "execution_count": 3,
   "metadata": {},
   "outputs": [
    {
     "name": "stdout",
     "output_type": "stream",
     "text": [
      "sleeping for 1 second(s)...\n",
      "Done sleeping for 1 second(s)\n",
      "sleeping for 1 second(s)...\n",
      "Done sleeping for 1 second(s)\n",
      "Time Taken: 2.00323486328125 [s] \n"
     ]
    }
   ],
   "source": [
    "\n",
    "start = time.time()\n",
    "do_it()\n",
    "do_it()\n",
    "print('Time Taken:', time.time()-start, '[s] ')"
   ]
  },
  {
   "cell_type": "markdown",
   "metadata": {},
   "source": [
    "As expected, it took around 2 sec's"
   ]
  },
  {
   "cell_type": "markdown",
   "metadata": {},
   "source": [
    "### 2. two-process execution (declare each process manually) \n",
    "\n",
    "Run at the same time"
   ]
  },
  {
   "cell_type": "markdown",
   "metadata": {},
   "source": [
    "![multi-processing](img/multi-processing.png)"
   ]
  },
  {
   "cell_type": "markdown",
   "metadata": {},
   "source": [
    "We pass arguments as a list and the function without `()`.\n",
    "\n",
    "It is really similar to multi-threading."
   ]
  },
  {
   "cell_type": "code",
   "execution_count": 4,
   "metadata": {},
   "outputs": [
    {
     "name": "stdout",
     "output_type": "stream",
     "text": [
      "sleeping for 1 second(s)...\n",
      "sleeping for 1 second(s)...\n",
      "Done sleeping for 1 second(s)\n",
      "Done sleeping for 1 second(s)\n",
      "Time Taken: 1.0082290172576904 [s] \n"
     ]
    }
   ],
   "source": [
    "start = time.time()\n",
    "p1 = multiprocessing.Process(target=do_it, args=([1]))  #args as a list\n",
    "p2 = multiprocessing.Process(target=do_it, args=([1]))\n",
    "\n",
    "p1.start() #start the first process\n",
    "p2.start() #start the 2nd process\n",
    "\n",
    "p1.join()  #finish the first process\n",
    "p2.join()   #finish the 2nd process\n",
    "print('Time Taken:', time.time()-start, '[s] ')"
   ]
  },
  {
   "cell_type": "markdown",
   "metadata": {},
   "source": [
    "### 3. multi-process execution (create 10 processes in a loop)"
   ]
  },
  {
   "cell_type": "code",
   "execution_count": 5,
   "metadata": {},
   "outputs": [
    {
     "name": "stdout",
     "output_type": "stream",
     "text": [
      "sleeping for 1 second(s)...\n",
      "sleeping for 1 second(s)...\n",
      "sleeping for 1 second(s)...\n",
      "sleeping for 1 second(s)...sleeping for 1 second(s)...sleeping for 1 second(s)...\n",
      "\n",
      "\n",
      "sleeping for 1 second(s)...\n",
      "sleeping for 1 second(s)...\n",
      "sleeping for 1 second(s)...\n",
      "sleeping for 1 second(s)...\n",
      "Done sleeping for 1 second(s)\n",
      "Done sleeping for 1 second(s)\n",
      "Done sleeping for 1 second(s)\n",
      "Done sleeping for 1 second(s)Done sleeping for 1 second(s)Done sleeping for 1 second(s)\n",
      "\n",
      "\n",
      "Done sleeping for 1 second(s)\n",
      "Done sleeping for 1 second(s)\n",
      "Done sleeping for 1 second(s)\n",
      "Done sleeping for 1 second(s)\n",
      "Time Taken: 1.0524919033050537 [s] \n"
     ]
    }
   ],
   "source": [
    "\n",
    "start = time.time()\n",
    "process_list = []\n",
    "\n",
    "for _ in range(10):\n",
    "    p = multiprocessing.Process(target=do_it, args=([1]))\n",
    "    p.start()\n",
    "    process_list.append(p)\n",
    "    # cannot join (finish) processes here. We need another loop for that.\n",
    "    \n",
    "for process in process_list:\n",
    "    process.join()\n",
    "    \n",
    "print('Time Taken:', time.time()-start, '[s] ')"
   ]
  },
  {
   "cell_type": "markdown",
   "metadata": {},
   "source": [
    "## ProcessPool\n",
    "We need to have a function that returns something"
   ]
  },
  {
   "cell_type": "markdown",
   "metadata": {},
   "source": [
    "### 4. two-process using ProcessPool **for FUNCTIONs** (declare each process manually) \n"
   ]
  },
  {
   "cell_type": "code",
   "execution_count": 6,
   "metadata": {},
   "outputs": [
    {
     "name": "stdout",
     "output_type": "stream",
     "text": [
      "sleeping for 1 second(s)...sleeping for 1 second(s)...\n",
      "\n",
      "Done sleeping for 1 second(s)\n",
      "Done sleeping for 1 second(s)\n",
      "Time Taken: 1.0361835956573486 [s] \n"
     ]
    }
   ],
   "source": [
    "\n",
    "start = time.time()\n",
    "\n",
    "with concurrent.futures.ProcessPoolExecutor() as executor:\n",
    "    f1 = executor.submit(do_it_func, 1) # execute a function once at a time\n",
    "    f2 = executor.submit(do_it_func, 1)\n",
    "\n",
    "    print(f1.result())\n",
    "    print(f2.result())\n",
    "\n",
    "print('Time Taken:', time.time()-start, '[s] ')\n",
    "\n"
   ]
  },
  {
   "cell_type": "markdown",
   "metadata": {},
   "source": [
    "### 5. multi-process using processPool **for FUNCTIONs** (create 10 processs using list comprehension)\n"
   ]
  },
  {
   "cell_type": "code",
   "execution_count": 21,
   "metadata": {},
   "outputs": [
    {
     "name": "stdout",
     "output_type": "stream",
     "text": [
      "sleeping for 1 second(s)...sleeping for 1 second(s)...sleeping for 1 second(s)...sleeping for 1 second(s)...\n",
      "sleeping for 1 second(s)...\n",
      "\n",
      "sleeping for 1 second(s)...sleeping for 1 second(s)...\n",
      "\n",
      "sleeping for 1 second(s)...\n",
      "\n",
      "\n",
      "sleeping for 1 second(s)...\n",
      "sleeping for 1 second(s)...\n",
      "Done sleeping for 1 second(s)\n",
      "Done sleeping for 1 second(s)\n",
      "Done sleeping for 1 second(s)\n",
      "Done sleeping for 1 second(s)\n",
      "Done sleeping for 1 second(s)\n",
      "Done sleeping for 1 second(s)\n",
      "Done sleeping for 1 second(s)\n",
      "Done sleeping for 1 second(s)\n",
      "Done sleeping for 1 second(s)\n",
      "Done sleeping for 1 second(s)\n",
      "Time Taken: 1.1093192100524902 [s] \n"
     ]
    }
   ],
   "source": [
    "\n",
    "start = time.time()\n",
    "with concurrent.futures.ProcessPoolExecutor() as executor:\n",
    "    results = [executor.submit(do_it_func, 1) for _ in range(10)]\n",
    "\n",
    "    for f in concurrent.futures.as_completed(results):\n",
    "        print(f.result())\n",
    "\n",
    "print('Time Taken:', time.time()-start, '[s] ')"
   ]
  },
  {
   "cell_type": "markdown",
   "metadata": {},
   "source": [
    "### B\n",
    "different sleeping times"
   ]
  },
  {
   "cell_type": "code",
   "execution_count": 7,
   "metadata": {},
   "outputs": [
    {
     "name": "stdout",
     "output_type": "stream",
     "text": [
      "sleeping for 10 second(s)...sleeping for 9 second(s)...sleeping for 7 second(s)...sleeping for 8 second(s)...sleeping for 6 second(s)...\n",
      "\n",
      "\n",
      "\n",
      "sleeping for 5 second(s)...sleeping for 3 second(s)...sleeping for 4 second(s)...\n",
      "sleeping for 1 second(s)...sleeping for 2 second(s)...\n",
      "\n",
      "\n",
      "\n",
      "\n",
      "Done sleeping for 1 second(s)\n",
      "Done sleeping for 2 second(s)\n",
      "Done sleeping for 3 second(s)\n",
      "Done sleeping for 4 second(s)\n",
      "Done sleeping for 5 second(s)\n",
      "Done sleeping for 6 second(s)\n",
      "Done sleeping for 7 second(s)\n",
      "Done sleeping for 8 second(s)\n",
      "Done sleeping for 9 second(s)\n",
      "Done sleeping for 10 second(s)\n",
      "Time Taken: 10.043278932571411 [s] \n"
     ]
    }
   ],
   "source": [
    "\n",
    "start = time.time()\n",
    "\n",
    "with concurrent.futures.ProcessPoolExecutor() as executor:\n",
    "    results = [executor.submit(do_it_func, 10-i) for i in range(10)]\n",
    "\n",
    "    for f in concurrent.futures.as_completed(results):\n",
    "        print(f.result())\n",
    "\n",
    "print('Time Taken:', time.time()-start, '[s] ')"
   ]
  },
  {
   "cell_type": "code",
   "execution_count": 24,
   "metadata": {},
   "outputs": [
    {
     "name": "stdout",
     "output_type": "stream",
     "text": [
      "sleeping for 10 second(s)...sleeping for 8 second(s)...sleeping for 9 second(s)...sleeping for 4 second(s)...sleeping for 5 second(s)...sleeping for 3 second(s)...sleeping for 2 second(s)...\n",
      "sleeping for 1 second(s)...\n",
      "\n",
      "\n",
      "\n",
      "\n",
      "\n",
      "\n",
      "sleeping for 7 second(s)...\n",
      "sleeping for 6 second(s)...\n",
      "Done sleeping for 10 second(s)\n",
      "Done sleeping for 9 second(s)\n",
      "Done sleeping for 8 second(s)\n",
      "Done sleeping for 7 second(s)\n",
      "Done sleeping for 6 second(s)\n",
      "Done sleeping for 5 second(s)\n",
      "Done sleeping for 4 second(s)\n",
      "Done sleeping for 3 second(s)\n",
      "Done sleeping for 2 second(s)\n",
      "Done sleeping for 1 second(s)\n",
      "Time Taken: 10.06337833404541 [s] \n"
     ]
    }
   ],
   "source": [
    "\n",
    "start = time.time()\n",
    "\n",
    "with concurrent.futures.ProcessPoolExecutor() as executor:\n",
    "    secs = [10-i for i in range(10)]\n",
    "    results = executor.map(do_it_func, secs)\n",
    "\n",
    "    for result in results:\n",
    "        print(result)\n",
    "\n",
    "print('Time Taken:', time.time()-start, '[s] ')"
   ]
  },
  {
   "cell_type": "code",
   "execution_count": null,
   "metadata": {},
   "outputs": [],
   "source": []
  }
 ],
 "metadata": {
  "kernelspec": {
   "display_name": "Python 3",
   "language": "python",
   "name": "python3"
  },
  "language_info": {
   "codemirror_mode": {
    "name": "ipython",
    "version": 3
   },
   "file_extension": ".py",
   "mimetype": "text/x-python",
   "name": "python",
   "nbconvert_exporter": "python",
   "pygments_lexer": "ipython3",
   "version": "3.8.5"
  }
 },
 "nbformat": 4,
 "nbformat_minor": 2
}
