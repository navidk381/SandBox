{
 "metadata": {
  "language_info": {
   "codemirror_mode": {
    "name": "ipython",
    "version": 3
   },
   "file_extension": ".py",
   "mimetype": "text/x-python",
   "name": "python",
   "nbconvert_exporter": "python",
   "pygments_lexer": "ipython3",
   "version": "3.8.5"
  },
  "orig_nbformat": 2,
  "kernelspec": {
   "name": "python385jvsc74a57bd03ca1559bf9a55d56d2a4d3c2b489989f40b7acd9d45bc87d4a097779487ec1c5",
   "display_name": "Python 3.8.5 64-bit ('base': conda)"
  }
 },
 "nbformat": 4,
 "nbformat_minor": 2,
 "cells": [
  {
   "source": [
    "# Parallel-processing using threads\n",
    "### I/O bound\n",
    "ref = [YouTube](https://www.youtube.com/watch?v=fKl2JW_qrso)"
   ],
   "cell_type": "markdown",
   "metadata": {}
  },
  {
   "source": [
    "We use threads when I/O is a bottleneck and not computation (CPU). "
   ],
   "cell_type": "markdown",
   "metadata": {}
  },
  {
   "source": [
    "## threading"
   ],
   "cell_type": "markdown",
   "metadata": {}
  },
  {
   "cell_type": "code",
   "execution_count": 12,
   "metadata": {},
   "outputs": [],
   "source": [
    "import time\n",
    "import threading\n",
    "import concurrent.futures"
   ]
  },
  {
   "source": [
    "Let's define two similar functions that get as input the time in seconds to sleep. One function, with `return` and one without: "
   ],
   "cell_type": "markdown",
   "metadata": {}
  },
  {
   "cell_type": "code",
   "execution_count": 2,
   "metadata": {},
   "outputs": [],
   "source": [
    "def do_it(seconds=1):\n",
    "    print(f'sleeping for {seconds} second(s)...')\n",
    "    time.sleep(seconds)\n",
    "    print(f'Done sleeping for {seconds} second(s)')\n",
    "\n",
    "def do_it_func(seconds=1):\n",
    "    print(f'sleeping for {seconds} second(s)...')\n",
    "    time.sleep(seconds)\n",
    "    return f'Done sleeping for {seconds} second(s)'"
   ]
  },
  {
   "source": [
    "### 1. one-thread"
   ],
   "cell_type": "markdown",
   "metadata": {}
  },
  {
   "source": [
    "![one-thread](img/one-thread.png)"
   ],
   "cell_type": "markdown",
   "metadata": {}
  },
  {
   "cell_type": "code",
   "execution_count": 3,
   "metadata": {},
   "outputs": [
    {
     "output_type": "stream",
     "name": "stdout",
     "text": [
      "sleeping for 1 second(s)...\n",
      "Done sleeping for 1 second(s)\n",
      "sleeping for 1 second(s)...\n",
      "Done sleeping for 1 second(s)\n",
      "Time Taken: 2.00323486328125 [s] \n"
     ]
    }
   ],
   "source": [
    "\n",
    "start = time.time()\n",
    "do_it()\n",
    "do_it()\n",
    "print('Time Taken:', time.time()-start, '[s] ')"
   ]
  },
  {
   "source": [
    "As expected, it took around 2 sec's"
   ],
   "cell_type": "markdown",
   "metadata": {}
  },
  {
   "source": [
    "### 2. two-thread (declare each thread manually) \n",
    "\n",
    "Run concurrently but not at the same time. \n",
    "\n"
   ],
   "cell_type": "markdown",
   "metadata": {}
  },
  {
   "source": [
    "![two-thread](img/two-thread.png)"
   ],
   "cell_type": "markdown",
   "metadata": {}
  },
  {
   "source": [
    "We pass arguments as a list and the function without ()"
   ],
   "cell_type": "markdown",
   "metadata": {}
  },
  {
   "cell_type": "code",
   "execution_count": 25,
   "metadata": {},
   "outputs": [
    {
     "output_type": "stream",
     "name": "stdout",
     "text": [
      "sleeping for 1 second(s)...\n",
      "sleeping for 1 second(s)...\n",
      "Done sleeping for 1 second(s)\n",
      "Done sleeping for 1 second(s)\n",
      "Time Taken: 1.0017759799957275 [s] \n"
     ]
    }
   ],
   "source": [
    "start = time.time()\n",
    "t1 = threading.Thread(target=do_it, args=([1]))  #args as a list\n",
    "t2 = threading.Thread(target=do_it, args=([1]))\n",
    "\n",
    "t1.start()\n",
    "t2.start()\n",
    "\n",
    "t1.join()\n",
    "t2.join()\n",
    "print('Time Taken:', time.time()-start, '[s] ')"
   ]
  },
  {
   "source": [
    "### 3. multi-thread (create 10 threads in a loop)\n"
   ],
   "cell_type": "markdown",
   "metadata": {}
  },
  {
   "cell_type": "code",
   "execution_count": 6,
   "metadata": {},
   "outputs": [
    {
     "output_type": "stream",
     "name": "stdout",
     "text": [
      "sleeping for 1 second(s)...\n",
      "sleeping for 1 second(s)...\n",
      "sleeping for 1 second(s)...\n",
      "sleeping for 1 second(s)...\n",
      "sleeping for 1 second(s)...\n",
      "sleeping for 1 second(s)...\n",
      "sleeping for 1 second(s)...\n",
      "sleeping for 1 second(s)...\n",
      "sleeping for 1 second(s)...\n",
      "sleeping for 1 second(s)...\n",
      "Done sleeping for 1 second(s)\n",
      "Done sleeping for 1 second(s)Done sleeping for 1 second(s)Done sleeping for 1 second(s)\n",
      "Done sleeping for 1 second(s)Done sleeping for 1 second(s)\n",
      "Done sleeping for 1 second(s)\n",
      "Done sleeping for 1 second(s)Done sleeping for 1 second(s)\n",
      "Done sleeping for 1 second(s)\n",
      "\n",
      "\n",
      "\n",
      "\n",
      "Time Taken: 1.0080194473266602 [s] \n"
     ]
    }
   ],
   "source": [
    "\n",
    "start = time.time()\n",
    "thread_list = []\n",
    "\n",
    "for _ in range(10):\n",
    "    t = threading.Thread(target=do_it, args=([1]))\n",
    "    t.start()\n",
    "    thread_list.append(t)\n",
    "    # cannot join (finish) threads. We need another loop\n",
    "    \n",
    "for thread in thread_list:\n",
    "    thread.join()\n",
    "print('Time Taken:', time.time()-start, '[s] ')"
   ]
  },
  {
   "source": [
    "## ThreadPool\n",
    "We need to have a function that returns something"
   ],
   "cell_type": "markdown",
   "metadata": {}
  },
  {
   "source": [
    "### 4. two-thread using ThreadPool **for FUNCTIONs** (declare each thread manually) \n"
   ],
   "cell_type": "markdown",
   "metadata": {}
  },
  {
   "cell_type": "code",
   "execution_count": 15,
   "metadata": {},
   "outputs": [
    {
     "output_type": "stream",
     "name": "stdout",
     "text": [
      "sleeping for 1 second(s)...\n",
      "sleeping for 1 second(s)...\n",
      "Done sleeping for 1 second(s)\n",
      "Done sleeping for 1 second(s)\n",
      "Time Taken: 1.0045607089996338 [s] \n"
     ]
    }
   ],
   "source": [
    "\n",
    "start = time.time()\n",
    "\n",
    "with concurrent.futures.ThreadPoolExecutor() as executor:\n",
    "    f1 = executor.submit(do_it_func, 1) # execute a function once at a time\n",
    "    f2 = executor.submit(do_it_func, 1)\n",
    "\n",
    "    print(f1.result())\n",
    "    print(f2.result())\n",
    "\n",
    "print('Time Taken:', time.time()-start, '[s] ')\n",
    "\n"
   ]
  },
  {
   "source": [
    "### 5. multi-thread using ThreadPool **for FUNCTIONs** (create 10 threads using list comprehension)\n"
   ],
   "cell_type": "markdown",
   "metadata": {}
  },
  {
   "source": [
    "### A"
   ],
   "cell_type": "markdown",
   "metadata": {}
  },
  {
   "cell_type": "code",
   "execution_count": 14,
   "metadata": {},
   "outputs": [
    {
     "output_type": "stream",
     "name": "stdout",
     "text": [
      "sleeping for 1 second(s)...sleeping for 1 second(s)...\n",
      "\n",
      "sleeping for 1 second(s)...\n",
      "sleeping for 1 second(s)...\n",
      "sleeping for 1 second(s)...\n",
      "sleeping for 1 second(s)...\n",
      "sleeping for 1 second(s)...\n",
      "sleeping for 1 second(s)...sleeping for 1 second(s)...\n",
      "\n",
      "sleeping for 1 second(s)...\n",
      "Done sleeping for 1 second(s)\n",
      "Done sleeping for 1 second(s)\n",
      "Done sleeping for 1 second(s)\n",
      "Done sleeping for 1 second(s)\n",
      "Done sleeping for 1 second(s)\n",
      "Done sleeping for 1 second(s)\n",
      "Done sleeping for 1 second(s)\n",
      "Done sleeping for 1 second(s)\n",
      "Done sleeping for 1 second(s)\n",
      "Done sleeping for 1 second(s)\n",
      "Time Taken: 1.0106468200683594 [s] \n"
     ]
    }
   ],
   "source": [
    "\n",
    "start = time.time()\n",
    "with concurrent.futures.ThreadPoolExecutor() as executor:\n",
    "    results = [executor.submit(do_it_func, 1) for _ in range(10)]\n",
    "\n",
    "    for f in concurrent.futures.as_completed(results):\n",
    "        print(f.result())\n",
    "\n",
    "print('Time Taken:', time.time()-start, '[s] ')"
   ]
  },
  {
   "source": [
    "### B\n",
    "different sleeping times"
   ],
   "cell_type": "markdown",
   "metadata": {}
  },
  {
   "cell_type": "code",
   "execution_count": 20,
   "metadata": {},
   "outputs": [
    {
     "output_type": "stream",
     "name": "stdout",
     "text": [
      "sleeping for 10 second(s)...\n",
      "sleeping for 9 second(s)...\n",
      "sleeping for 8 second(s)...\n",
      "sleeping for 7 second(s)...\n",
      "sleeping for 6 second(s)...\n",
      "sleeping for 5 second(s)...\n",
      "sleeping for 4 second(s)...\n",
      "sleeping for 3 second(s)...\n",
      "sleeping for 2 second(s)...\n",
      "sleeping for 1 second(s)...\n",
      "Done sleeping for 1 second(s)\n",
      "Done sleeping for 2 second(s)\n",
      "Done sleeping for 3 second(s)\n",
      "Done sleeping for 4 second(s)\n",
      "Done sleeping for 5 second(s)\n",
      "Done sleeping for 6 second(s)\n",
      "Done sleeping for 7 second(s)\n",
      "Done sleeping for 8 second(s)\n",
      "Done sleeping for 9 second(s)\n",
      "Done sleeping for 10 second(s)\n",
      "Time Taken: 10.014877080917358 [s] \n"
     ]
    }
   ],
   "source": [
    "\n",
    "start = time.time()\n",
    "\n",
    "with concurrent.futures.ThreadPoolExecutor() as executor:\n",
    "    results = [executor.submit(do_it_func, 10-i) for i in range(10)]\n",
    "\n",
    "    for f in concurrent.futures.as_completed(results):\n",
    "        print(f.result())\n",
    "\n",
    "print('Time Taken:', time.time()-start, '[s] ')"
   ]
  },
  {
   "source": [
    "Similar to built-in `map` method in Python, but it continues once each function's sleep is done.\n",
    "Run teh cell below and watch\n"
   ],
   "cell_type": "markdown",
   "metadata": {}
  },
  {
   "cell_type": "code",
   "execution_count": 22,
   "metadata": {},
   "outputs": [
    {
     "output_type": "stream",
     "name": "stdout",
     "text": [
      "sleeping for 10 second(s)...\n",
      "sleeping for 9 second(s)...\n",
      "sleeping for 8 second(s)...\n",
      "sleeping for 7 second(s)...\n",
      "sleeping for 6 second(s)...\n",
      "sleeping for 5 second(s)...\n",
      "sleeping for 4 second(s)...sleeping for 3 second(s)...\n",
      "\n",
      "sleeping for 2 second(s)...\n",
      "sleeping for 1 second(s)...\n",
      "Done sleeping for 10 second(s)\n",
      "Done sleeping for 9 second(s)\n",
      "Done sleeping for 8 second(s)\n",
      "Done sleeping for 7 second(s)\n",
      "Done sleeping for 6 second(s)\n",
      "Done sleeping for 5 second(s)\n",
      "Done sleeping for 4 second(s)\n",
      "Done sleeping for 3 second(s)\n",
      "Done sleeping for 2 second(s)\n",
      "Done sleeping for 1 second(s)\n",
      "Time Taken: 10.016144275665283 [s] \n"
     ]
    }
   ],
   "source": [
    "\n",
    "start = time.time()\n",
    "\n",
    "with concurrent.futures.ThreadPoolExecutor() as executor:\n",
    "    secs = [10-i for i in range(10)]\n",
    "    results = executor.map(do_it_func, secs)\n",
    "\n",
    "    for result in results:\n",
    "        print(result)\n",
    "\n",
    "print('Time Taken:', time.time()-start, '[s] ')"
   ]
  },
  {
   "cell_type": "code",
   "execution_count": 24,
   "metadata": {},
   "outputs": [
    {
     "output_type": "execute_result",
     "data": {
      "text/plain": [
       "[<map at 0x7f83f99cce80>]"
      ]
     },
     "metadata": {},
     "execution_count": 24
    }
   ],
   "source": []
  },
  {
   "cell_type": "code",
   "execution_count": null,
   "metadata": {},
   "outputs": [],
   "source": []
  }
 ]
}